{
 "cells": [
  {
   "cell_type": "markdown",
   "metadata": {},
   "source": [
    "### API Key\n",
    "Pc9BW2uXp3M0ctS3W7g5vlG9le7BmRxslFxK7kcK"
   ]
  },
  {
   "cell_type": "code",
   "execution_count": 1,
   "metadata": {},
   "outputs": [],
   "source": [
    "import requests\n",
    "import json\n",
    "import hashlib"
   ]
  },
  {
   "cell_type": "markdown",
   "metadata": {},
   "source": [
    "### api call outline"
   ]
  },
  {
   "cell_type": "markdown",
   "metadata": {},
   "source": [
    "### api route builder"
   ]
  },
  {
   "cell_type": "code",
   "execution_count": 2,
   "metadata": {},
   "outputs": [],
   "source": [
    "def build_metadata_request_url(dataset_id, api_key):\n",
    "    base_url = \"https://api.eia.gov/v2/\"\n",
    "    endpoint = f\"{dataset_id}?api_key={api_key}\"\n",
    "    url = base_url + endpoint\n",
    "    return url"
   ]
  },
  {
   "cell_type": "code",
   "execution_count": 3,
   "metadata": {},
   "outputs": [],
   "source": [
    "def get_metadata(url):\n",
    "    \n",
    "    response = requests.get(url)\n",
    "    \n",
    "    if response.status_code == 200:\n",
    "        data = response.json()\n",
    "        return data\n",
    "    else:\n",
    "        print(f\"Error: {response.status_code}\")\n",
    "        return None\n"
   ]
  },
  {
   "cell_type": "code",
   "execution_count": 4,
   "metadata": {},
   "outputs": [],
   "source": [
    "def build_data_request_url(dataset_id):\n",
    "    base_url = \"https://api.eia.gov/v2/\"\n",
    "    endpoint = f\"{dataset_id}/data/?\"\n",
    "    url = base_url + endpoint\n",
    "    return url"
   ]
  },
  {
   "cell_type": "code",
   "execution_count": 5,
   "metadata": {},
   "outputs": [],
   "source": [
    "url = build_data_request_url(\"petroleum/pri/spt\")"
   ]
  },
  {
   "cell_type": "code",
   "execution_count": 6,
   "metadata": {},
   "outputs": [],
   "source": [
    "def get_child_metadata(api_key, dataset_id, child_dataset_id):\n",
    "    base_url = \"https://api.eia.gov/v2/\"\n",
    "    endpoint = f\"{dataset_id}/{child_dataset_id}?api_key={api_key}\"\n",
    "    url = base_url + endpoint\n",
    "    \n",
    "    response = requests.get(url)\n",
    "    \n",
    "    if response.status_code == 200:\n",
    "        data = response.json()\n",
    "        return data\n",
    "    else:\n",
    "        print(f\"Error: {response.status_code}\")\n",
    "        return None"
   ]
  },
  {
   "cell_type": "code",
   "execution_count": null,
   "metadata": {},
   "outputs": [],
   "source": [
    "get_child_metadata(\"Pc9BW2uXp3M0ctS3W7g5vlG9le7BmRxslFxK7kcK\", \"petroleum\", 'pri')"
   ]
  },
  {
   "cell_type": "code",
   "execution_count": 8,
   "metadata": {},
   "outputs": [],
   "source": [
    "def fetch_generic_data(url, query_params):\n",
    "    response = requests.get(url, params=query_params)\n",
    "    print(response.url)\n",
    "\n",
    "    if response.status_code == 200:\n",
    "        data = response.json()\n",
    "        return data\n",
    "    else:\n",
    "        print(\"API request failed with status code:\", response.status_code)\n",
    "        return None"
   ]
  },
  {
   "cell_type": "code",
   "execution_count": null,
   "metadata": {},
   "outputs": [],
   "source": [
    "params = {\n",
    "        \"api_key\": \"Pc9BW2uXp3M0ctS3W7g5vlG9le7BmRxslFxK7kcK\",\n",
    "        \"data[]\": \"value\",\n",
    "        \"facets\": {},\n",
    "        \"frequency\": \"weekly\",\n",
    "        \"start\": \"2023-07-28\",\n",
    "        \"end\": \"2023-07-28\",\n",
    "        \"sort[0][column]\": \"period\",\n",
    "        \"sort[0][direction]\": \"asc\",\n",
    "        \"offset\": 0,\n",
    "        \"length\": 1\n",
    "    }\n",
    "\n",
    "fetch_generic_data(url, params)"
   ]
  },
  {
   "cell_type": "code",
   "execution_count": null,
   "metadata": {},
   "outputs": [],
   "source": [
    "url = build_data_request_url(\"petroleum/pri/spt\")\n",
    "print(url)"
   ]
  },
  {
   "cell_type": "code",
   "execution_count": null,
   "metadata": {},
   "outputs": [],
   "source": [
    "def get_full_output(api_url):\n",
    "    output = []\n",
    "    offset = 0\n",
    "    chunk_size = 150 # Initial chunk size\n",
    "\n",
    "    while True:\n",
    "        params = {\n",
    "        \"api_key\": \"Pc9BW2uXp3M0ctS3W7g5vlG9le7BmRxslFxK7kcK\",\n",
    "        \"data[]\": \"value\",\n",
    "        \"facets\": {},\n",
    "        \"frequency\": \"weekly\",\n",
    "        \"start\": \"1986-01-03\",\n",
    "        \"end\": \"2023-07-28\",\n",
    "        \"sort[0][column]\": \"period\",\n",
    "        \"sort[0][direction]\": \"asc\",\n",
    "        \"offset\": offset,\n",
    "        \"length\": chunk_size\n",
    "    }\n",
    "        response = requests.get(api_url, params=params)\n",
    "        \n",
    "        if response.status_code == 200:\n",
    "            chunk = response.json()['response']['data']\n",
    "            output += chunk\n",
    "            offset += len(chunk)\n",
    "            \n",
    "            if len(chunk) < chunk_size:\n",
    "                break\n",
    "        else:\n",
    "            print(f\"Error: Request failed with status code {response.status_code}\")\n",
    "            break\n",
    "\n",
    "    return output\n",
    "\n",
    "def save_to_file(filename, data):\n",
    "    with open(filename, 'w') as file:\n",
    "        json.dump(data, file, indent=4)\n",
    "        \n",
    "filename = hashlib.sha256(url.encode()).hexdigest() + \".json\" \n",
    "full_output_json = get_full_output(url)\n",
    "save_to_file(filename, full_output_json)\n",
    "print(f\"Data saved to {filename}\")\n"
   ]
  }
 ],
 "metadata": {
  "kernelspec": {
   "display_name": "base",
   "language": "python",
   "name": "python3"
  },
  "language_info": {
   "codemirror_mode": {
    "name": "ipython",
    "version": 3
   },
   "file_extension": ".py",
   "mimetype": "text/x-python",
   "name": "python",
   "nbconvert_exporter": "python",
   "pygments_lexer": "ipython3",
   "version": "3.11.5"
  },
  "orig_nbformat": 4
 },
 "nbformat": 4,
 "nbformat_minor": 2
}
