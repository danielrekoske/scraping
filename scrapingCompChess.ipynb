{
 "cells": [
  {
   "cell_type": "code",
   "execution_count": 17,
   "metadata": {},
   "outputs": [],
   "source": [
    "from selenium import webdriver\n",
    "from selenium.webdriver.common.by import By\n",
    "from selenium.webdriver.chrome.options import Options\n",
    "import os\n",
    "import time\n",
    "\n",
    "def scrape_compChess(page_num, items_per_page):\n",
    "    try:\n",
    "        # Create the \"chess games\" directory if it doesn't exist\n",
    "        download_directory = \"chess games\"\n",
    "        if not os.path.exists(download_directory):\n",
    "            os.makedirs(download_directory)\n",
    "            \n",
    "        # Set Chrome WebDriver options to specify the download directory\n",
    "        chrome_options = Options()\n",
    "        prefs = {\n",
    "            \"download.default_directory\": os.path.abspath(download_directory),\n",
    "            \"download.prompt_for_download\": False,  # To automatically download the file without asking\n",
    "            \"download.directory_upgrade\": True,  # To make Chrome aware of the new download directory\n",
    "            \"safebrowsing.enabled\": True  # To enable safe browsing\n",
    "        }\n",
    "        chrome_options.add_experimental_option(\"prefs\", prefs)\n",
    "        \n",
    "        # Initialize the Chrome driver with the specified options\n",
    "        driver = webdriver.Chrome(options=chrome_options)\n",
    "\n",
    "        url = 'https://www.chess.com/library/collections/every-computer-chess-championship-game-NVkTAeGv?itemsPerPage=' + str(items_per_page) + '&page=' + str(page_num)\n",
    "        driver.get(url)\n",
    "        time.sleep(2)\n",
    "\n",
    "        label_element = driver.find_element(By.XPATH, \"/html/body/div[1]/div[2]/main/div[1]/div[2]/div/div/div[2]/div[2]/table/thead/tr/th[8]/label/div/input\")\n",
    "        label_element.click()\n",
    "\n",
    "        download = driver.find_element(By.XPATH, \"/html/body/div[1]/div[2]/main/div[1]/div/div/div[1]/div[2]/div[1]/div[2]/div[2]/button\")\n",
    "        download.click()\n",
    "        time.sleep(3)\n",
    "        driver.quit()\n",
    "    except Exception as e:\n",
    "        print(f\"An error occurred: {e}\")\n",
    "        return\n"
   ]
  },
  {
   "cell_type": "code",
   "execution_count": 18,
   "metadata": {},
   "outputs": [
    {
     "ename": "KeyboardInterrupt",
     "evalue": "",
     "output_type": "error",
     "traceback": [
      "\u001b[0;31m---------------------------------------------------------------------------\u001b[0m",
      "\u001b[0;31mKeyboardInterrupt\u001b[0m                         Traceback (most recent call last)",
      "Cell \u001b[0;32mIn[18], line 2\u001b[0m\n\u001b[1;32m      1\u001b[0m \u001b[38;5;28;01mfor\u001b[39;00m i \u001b[38;5;129;01min\u001b[39;00m \u001b[38;5;28mrange\u001b[39m(\u001b[38;5;241m201\u001b[39m, \u001b[38;5;241m500\u001b[39m):\n\u001b[0;32m----> 2\u001b[0m     \u001b[43mscrape_compChess\u001b[49m\u001b[43m(\u001b[49m\u001b[43mi\u001b[49m\u001b[43m,\u001b[49m\u001b[43m \u001b[49m\u001b[38;5;241;43m100\u001b[39;49m\u001b[43m)\u001b[49m\n",
      "Cell \u001b[0;32mIn[17], line 29\u001b[0m, in \u001b[0;36mscrape_compChess\u001b[0;34m(page_num, items_per_page)\u001b[0m\n\u001b[1;32m     27\u001b[0m url \u001b[38;5;241m=\u001b[39m \u001b[38;5;124m'\u001b[39m\u001b[38;5;124mhttps://www.chess.com/library/collections/every-computer-chess-championship-game-NVkTAeGv?itemsPerPage=\u001b[39m\u001b[38;5;124m'\u001b[39m \u001b[38;5;241m+\u001b[39m \u001b[38;5;28mstr\u001b[39m(items_per_page) \u001b[38;5;241m+\u001b[39m \u001b[38;5;124m'\u001b[39m\u001b[38;5;124m&page=\u001b[39m\u001b[38;5;124m'\u001b[39m \u001b[38;5;241m+\u001b[39m \u001b[38;5;28mstr\u001b[39m(page_num)\n\u001b[1;32m     28\u001b[0m driver\u001b[38;5;241m.\u001b[39mget(url)\n\u001b[0;32m---> 29\u001b[0m \u001b[43mtime\u001b[49m\u001b[38;5;241;43m.\u001b[39;49m\u001b[43msleep\u001b[49m\u001b[43m(\u001b[49m\u001b[38;5;241;43m2\u001b[39;49m\u001b[43m)\u001b[49m\n\u001b[1;32m     31\u001b[0m label_element \u001b[38;5;241m=\u001b[39m driver\u001b[38;5;241m.\u001b[39mfind_element(By\u001b[38;5;241m.\u001b[39mXPATH, \u001b[38;5;124m\"\u001b[39m\u001b[38;5;124m/html/body/div[1]/div[2]/main/div[1]/div[2]/div/div/div[2]/div[2]/table/thead/tr/th[8]/label/div/input\u001b[39m\u001b[38;5;124m\"\u001b[39m)\n\u001b[1;32m     32\u001b[0m label_element\u001b[38;5;241m.\u001b[39mclick()\n",
      "\u001b[0;31mKeyboardInterrupt\u001b[0m: "
     ]
    }
   ],
   "source": [
    "for i in range(201, 500):\n",
    "    scrape_compChess(i, 100)"
   ]
  },
  {
   "cell_type": "code",
   "execution_count": 2,
   "metadata": {},
   "outputs": [],
   "source": [
    "import os\n",
    "\n",
    "def concatenate_pgn_files(folder_path, output_filename):\n",
    "    output_file_path = os.path.join(folder_path, output_filename)\n",
    "    with open(output_file_path, 'w') as output_file:\n",
    "        for filename in os.listdir(folder_path):\n",
    "            if filename.endswith('.pgn'):\n",
    "                file_path = os.path.join(folder_path, filename)\n",
    "                with open(file_path, 'r') as input_file:\n",
    "                    output_file.write(input_file.read())\n",
    "    \n",
    "    print(f\"The output file '{output_filename}' is saved in the folder.\")\n",
    "\n"
   ]
  },
  {
   "cell_type": "code",
   "execution_count": 4,
   "metadata": {},
   "outputs": [
    {
     "name": "stdout",
     "output_type": "stream",
     "text": [
      "The output file 'HLCompGames' is saved in the folder.\n"
     ]
    }
   ],
   "source": [
    "concatenate_pgn_files(\"chess games\", \"chess_games_formatted\")"
   ]
  }
 ],
 "metadata": {
  "kernelspec": {
   "display_name": "base",
   "language": "python",
   "name": "python3"
  },
  "language_info": {
   "codemirror_mode": {
    "name": "ipython",
    "version": 3
   },
   "file_extension": ".py",
   "mimetype": "text/x-python",
   "name": "python",
   "nbconvert_exporter": "python",
   "pygments_lexer": "ipython3",
   "version": "3.10.9"
  },
  "orig_nbformat": 4
 },
 "nbformat": 4,
 "nbformat_minor": 2
}
