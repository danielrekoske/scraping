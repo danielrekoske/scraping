{
 "cells": [
  {
   "cell_type": "code",
   "execution_count": 1,
   "metadata": {},
   "outputs": [],
   "source": [
    "from selenium import webdriver\n",
    "from selenium.webdriver.common.by import By\n",
    "from selenium.webdriver.chrome.options import Options\n",
    "import os\n",
    "import time\n",
    "\n",
    "def scrape_compChess(page_num, items_per_page):\n",
    "    try:\n",
    "        \n",
    "        download_directory = \"chess games\"\n",
    "        if not os.path.exists(download_directory):\n",
    "            os.makedirs(download_directory)\n",
    "            \n",
    "        \n",
    "        chrome_options = Options()\n",
    "        prefs = {\n",
    "            \"download.default_directory\": os.path.abspath(download_directory),\n",
    "            \"download.prompt_for_download\": False, \n",
    "            \"download.directory_upgrade\": True, \n",
    "            \"safebrowsing.enabled\": True \n",
    "        }\n",
    "        chrome_options.add_experimental_option(\"prefs\", prefs)\n",
    "        \n",
    "        \n",
    "        driver = webdriver.Chrome(options=chrome_options)\n",
    "\n",
    "        url = 'https://www.chess.com/library/collections/every-computer-chess-championship-game-NVkTAeGv?itemsPerPage=' + str(items_per_page) + '&page=' + str(page_num)\n",
    "        driver.get(url)\n",
    "        time.sleep(2)\n",
    "\n",
    "        label_element = driver.find_element(By.XPATH, \"/html/body/div[1]/div[2]/main/div[1]/div[2]/div/div/div[2]/div[2]/table/thead/tr/th[8]/label/div/input\")\n",
    "        label_element.click()\n",
    "\n",
    "        download = driver.find_element(By.XPATH, \"/html/body/div[1]/div[2]/main/div[1]/div/div/div[1]/div[2]/div[1]/div[2]/div[2]/button\")\n",
    "        download.click()\n",
    "        time.sleep(3)\n",
    "        driver.quit()\n",
    "    except Exception as e:\n",
    "        print(f\"An error occurred: {e}\")\n",
    "        return\n"
   ]
  },
  {
   "cell_type": "code",
   "execution_count": null,
   "metadata": {},
   "outputs": [],
   "source": [
    "for i in range(201, 500):\n",
    "    scrape_compChess(i, 100)"
   ]
  },
  {
   "cell_type": "code",
   "execution_count": 3,
   "metadata": {},
   "outputs": [],
   "source": [
    "import os\n",
    "\n",
    "def concatenate_pgn_files(folder_path, output_filename):\n",
    "    output_file_path = os.path.join(folder_path, output_filename)\n",
    "    with open(output_file_path, 'w') as output_file:\n",
    "        for filename in os.listdir(folder_path):\n",
    "            if filename.endswith('.pgn'):\n",
    "                file_path = os.path.join(folder_path, filename)\n",
    "                with open(file_path, 'r') as input_file:\n",
    "                    output_file.write(input_file.read())\n",
    "    \n",
    "    print(f\"The output file '{output_filename}' is saved in the folder.\")\n",
    "\n"
   ]
  },
  {
   "cell_type": "code",
   "execution_count": 4,
   "metadata": {},
   "outputs": [
    {
     "name": "stdout",
     "output_type": "stream",
     "text": [
      "The output file 'chess_games_formatted' is saved in the folder.\n"
     ]
    }
   ],
   "source": [
    "concatenate_pgn_files(\"chess games\", \"chess_games_formatted\")"
   ]
  }
 ],
 "metadata": {
  "kernelspec": {
   "display_name": "base",
   "language": "python",
   "name": "python3"
  },
  "language_info": {
   "codemirror_mode": {
    "name": "ipython",
    "version": 3
   },
   "file_extension": ".py",
   "mimetype": "text/x-python",
   "name": "python",
   "nbconvert_exporter": "python",
   "pygments_lexer": "ipython3",
   "version": "3.11.5"
  },
  "orig_nbformat": 4
 },
 "nbformat": 4,
 "nbformat_minor": 2
}
