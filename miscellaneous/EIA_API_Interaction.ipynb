{
 "cells": [
  {
   "cell_type": "markdown",
   "metadata": {},
   "source": [
    "### API Key\n",
    "Pc9BW2uXp3M0ctS3W7g5vlG9le7BmRxslFxK7kcK"
   ]
  },
  {
   "cell_type": "code",
   "execution_count": 1,
   "metadata": {},
   "outputs": [],
   "source": [
    "import requests\n",
    "import json\n",
    "import hashlib"
   ]
  },
  {
   "cell_type": "markdown",
   "metadata": {},
   "source": [
    "### api call outline"
   ]
  },
  {
   "cell_type": "markdown",
   "metadata": {},
   "source": [
    "### api route builder"
   ]
  },
  {
   "cell_type": "code",
   "execution_count": 2,
   "metadata": {},
   "outputs": [],
   "source": [
    "def build_metadata_request_url(dataset_id, api_key):\n",
    "    base_url = \"https://api.eia.gov/v2/\"\n",
    "    endpoint = f\"{dataset_id}?api_key={api_key}\"\n",
    "    url = base_url + endpoint\n",
    "    return url"
   ]
  },
  {
   "cell_type": "code",
   "execution_count": 11,
   "metadata": {},
   "outputs": [],
   "source": [
    "def get_metadata(url):\n",
    "    \n",
    "    response = requests.get(url)\n",
    "    \n",
    "    if response.status_code == 200:\n",
    "        data = response.json()\n",
    "        return data\n",
    "    else:\n",
    "        print(f\"Error: {response.status_code}\")\n",
    "        return None\n"
   ]
  },
  {
   "cell_type": "code",
   "execution_count": 20,
   "metadata": {},
   "outputs": [],
   "source": [
    "def build_data_request_url(dataset_id):\n",
    "    base_url = \"https://api.eia.gov/v2/\"\n",
    "    endpoint = f\"{dataset_id}/data/?\"\n",
    "    url = base_url + endpoint\n",
    "    return url"
   ]
  },
  {
   "cell_type": "code",
   "execution_count": 22,
   "metadata": {},
   "outputs": [],
   "source": [
    "url = build_data_request_url(\"petroleum/pri/spt\")"
   ]
  },
  {
   "cell_type": "code",
   "execution_count": 5,
   "metadata": {},
   "outputs": [],
   "source": [
    "def get_child_metadata(api_key, dataset_id, child_dataset_id):\n",
    "    base_url = \"https://api.eia.gov/v2/\"\n",
    "    endpoint = f\"{dataset_id}/{child_dataset_id}?api_key={api_key}\"\n",
    "    url = base_url + endpoint\n",
    "    \n",
    "    response = requests.get(url)\n",
    "    \n",
    "    if response.status_code == 200:\n",
    "        data = response.json()\n",
    "        return data\n",
    "    else:\n",
    "        print(f\"Error: {response.status_code}\")\n",
    "        return None"
   ]
  },
  {
   "cell_type": "code",
   "execution_count": 6,
   "metadata": {},
   "outputs": [
    {
     "data": {
      "text/plain": [
       "{'response': {'id': 'pri',\n",
       "  'name': 'Petroleum, Prices',\n",
       "  'description': 'Petroleum, Prices',\n",
       "  'routes': [{'id': 'gnd',\n",
       "    'name': 'Weekly Retail Gasoline and Diesel Prices',\n",
       "    'description': \"Conventional area is any area that does not require the sale of reformulated gasoline. All types of finished motor gasoline may be sold in this area. RFG area is an ozone nonattainment area designated by the U.S. Environmental Protection Agency (EPA), which requires the use of reformulated gasoline. We stopped publishing Low Sulfur On-Highway Diesel (LSD) prices at the U.S. level on December 8, 2008, because fewer stations were selling LSD as a result of EPA diesel fuel regulations. We continued to collect LSD prices from retail outlets and included them in the Diesel Average All Types price until July 26, 2010, when no more outlets reported LSD sales. Beginning July 26, 2010, publication of Ultra Low Sulfur Diesel (ULSD) price became fully represented by the Diesel Average All Types price. As of December 1, 2010 (September 1, 2006 in California), any on-highway diesel fuel sold is ULSD as mandated by EPA on-highway diesel fuel regulations. We did not collect weekly retail motor gasoline data between December 10, 1990, and January 14, 1991. Monthly and annual averages are simple averages of the weekly data. For months and years with incomplete weekly data series, the monthly and/or annual averages are not available. On May 14, 2018, we implemented <a href ='https://www.eia.gov/petroleum/gasdiesel/gas_proc-methods.php' class='reg'>statistical methodology changes</a> to improve the accuracy of the weekly retail gasoline price estimates. As a result of these statistical methodology changes, the published retail gasoline estimates for May 14, 2018, are not directly comparable to those published for May 7, 2018. On June 13, 2022, we implemented <a href ='https://www.eia.gov/petroleum/gasdiesel/diesel_proc-methods.php' class='reg'>statistical methodology changes</a> to improve the accuracy of the weekly retail on-highway diesel fuel price estimates. As a result of these statistical methodology changes, the published retail on-highway diesel fuel prices for June 13, 2022 are not directly comparable to those published for June 6, 2022.\"},\n",
       "   {'id': 'spt',\n",
       "    'name': 'Spot Prices',\n",
       "    'description': 'Weekly, monthly, and annual prices are calculated by EIA from daily data by taking an unweighted average of the daily closing spot prices for a given product over the specified time period.'},\n",
       "   {'id': 'fut',\n",
       "    'name': 'NYMEX Futures Prices',\n",
       "    'description': 'Official daily closing prices at 2:30 p.m. from the trading floor of the New York Mercantile Exchange (NYMEX) for a specific delivery month for each product listed.'},\n",
       "   {'id': 'wfr',\n",
       "    'name': 'Weekly Heating Oil and Propane Prices (October - March)',\n",
       "    'description': \"Weekly heating oil and propane prices are only collected during the heating season which extends from October through March. Due to updated weighting methodology, national and regional residential heating oil and propane prices from October 2009 to March 2013 have been revised since they were first published. See <a href ='http://www.eia.gov/dnav/pet/xls/SHOPPWeightingDifferences2013.xls' class='reg'>Excel spreadsheet</a> for changes to published data. Values shown for the previous week may be revised to account for late submissions and corrections.\"},\n",
       "   {'id': 'refmg',\n",
       "    'name': 'Refiner Gasoline Prices by Grade and Sales Type',\n",
       "    'description': '&quot;Sales to End Users, Average&quot; includes sales through retail outlets as well as all direct sales to end users that were not made through company-operated retail outlets, e.g., sales to agricultural customers, commercial sales, and industrial sales. Values shown for the current month are preliminary. Values shown for the previous month may be revised to account for late submissions and corrections and are considered final. Annual averages will be available in the April Petroleum Marketing Monthly.'},\n",
       "   {'id': 'refmg2',\n",
       "    'name': 'U.S. Refiner Gasoline Prices by Formulation, Grade, Sales Type',\n",
       "    'description': '&quot;Sales to End Users, Average&quot; includes sales through retail outlets as well as all direct sales to end users that were not made through company-operated retail outlets, e.g., sales to agricultural customers, commercial sales, and industrial sales.  Beginning January 2007, oxygenated gasoline is included in conventional gasoline.  Values shown for the current month are preliminary. Values shown for the previous month may be revised to account for late submissions and corrections and are considered final. Annual averages will be available in the April Petroleum Marketing Monthly.'},\n",
       "   {'id': 'refoth',\n",
       "    'name': 'Refiner Petroleum Product Prices by Sales Type',\n",
       "    'description': 'Values shown for the current month are preliminary. Values shown for the previous month may be revised to account for late submissions and corrections and are considered final. Annual averages will be available in the April Petroleum Marketing Monthly.'},\n",
       "   {'id': 'allmg',\n",
       "    'name': 'Gasoline Prices by Formulation, Grade, Sales Type',\n",
       "    'description': 'Values shown for the current month for regular gasoline at the U.S. and PADD levels in the retail outlets and sales for resale categories are initial estimates calculated using prior history of the series as well as present and past values of other related time series.  For all other data, values shown for the current month are preliminary. Values shown for the previous month may be revised to account for late submissions and corrections and are considered final. Annual averages will be available in the April Petroleum Marketing Monthly.  &quot; Sales to End Users, Average&quot; includes sales through retail outlets as well as all direct sales to end users that were not made through company-operated retail outlets, e.g., sales to agricultural customers, commercial sales, and industrial sales. Beginning January 2007, oxygenated gasoline is included in conventional gasoline.'},\n",
       "   {'id': 'dist',\n",
       "    'name': 'No. 2 Distillate Prices by Sales Type',\n",
       "    'description': 'Values shown in the current month for No. 2 Distillate at the U.S. and PADD levels in the residential, retail outlets, and sales for resale categories are initial estimates calculated using prior history of the series as well as present and past values of other related time series.   For all other data, values shown for the current two months are preliminary for No. 2 Distillate in the   \"residential\", \"through retail outlets\", and \"sales for resale\" categories at the U.S. and PAD District levels. In these cases, values for the current month are initial estimates calculated using prior history of the series as well as present and past values of other related time series, such as spot prices and heating degree days. For all other data, values shown for the current month are preliminary. Values shown for the previous month may be revised to account for late submissions and corrections and are considered final. Annual averages will be available in the April Petroleum Marketing Monthly. All on-highway diesel must be ultra low-sulfur as of December 1, 2010.'},\n",
       "   {'id': 'prop',\n",
       "    'name': 'Propane (Consumer Grade) Prices by Sales Type',\n",
       "    'description': 'Values shown for the current month are preliminary. Values shown for the previous month may be revised to account for late submissions and corrections and are considered final. Annual averages will be available in the April Petroleum Marketing Monthly.'},\n",
       "   {'id': 'resid',\n",
       "    'name': 'Residual Fuel Oil Prices by Sales Type',\n",
       "    'description': 'Values of U.S. residual fuel oil for the current month are initial estimates calculated using prior history of the series as well as present and past values of other related time series. For all other data, values shown for the current month are preliminary. Values shown for the previous month may be revised to account for late submissions and corrections and are considered final. Annual averages will be available in the April Petroleum Marketing Monthly. Some State data are not sufficient for publication, but are used in calculating the PAD District average.'},\n",
       "   {'id': 'dfp1',\n",
       "    'name': 'Domestic Crude Oil First Purchase Prices by Area',\n",
       "    'description': 'Values shown for the current month are preliminary. Values shown for the previous month may be revised to account for late submissions and corrections  Final revisions to monthly and annual values are available upon publication of the June Petroleum Marketing Monthly. Annual averages that precede the release of the June Petroleum Marketing Monthly are calculated from monthly data. Data through 2022 are final. The actual domestic average price represents the average price at the lease (or wellhead) at which domestic crude oil is purchased.'},\n",
       "   {'id': 'dfp2',\n",
       "    'name': 'Domestic Crude Oil First Purchase Prices for Selected Crude Streams',\n",
       "    'description': 'Values shown for the current month are preliminary. Values shown for the previous month may be revised to account for late submissions and corrections. Final revisions to monthly and annual values are available upon publication of the June Petroleum Marketing Monthly. Annual averages that precede the release of the June Petroleum Marketing Monthly are calculated from monthly data.  Data through 2022 are final.'},\n",
       "   {'id': 'dfp3',\n",
       "    'name': 'Domestic Crude Oil First Purchase Prices by API Gravity',\n",
       "    'description': 'Values shown for the current month are preliminary. Values shown for the previous month may be revised to account for late submissions and corrections. Final revisions to monthly and annual values are available upon publication of the June Petroleum Marketing Monthly. Annual averages that precede the release of the June Petroleum Marketing Monthly are calculated from monthly data. Data through 2022 are final.'},\n",
       "   {'id': 'rac2',\n",
       "    'name': 'Refiner Acquisition Cost of Crude Oil',\n",
       "    'description': 'Values shown for the U.S. in the current month are initial estimates calculated using prior history of the series as well as present and past values of other related time series. For all other data, values shown for the current month are preliminary. Values shown for the previous month may be revised to account for late submissions and corrections. Final revisions to monthly and annual values are available upon publication of the June Petroleum Marketing Monthly. Annual averages that precede the release of the June Petroleum Marketing Monthly are calculated from monthly data. Data through 2022 are final. U.S. is defined as the 50 states, the District of Columbia, Puerto Rico, the Virgin Islands, and all American territories and possessions.  Values reflect the PAD District in which the crude oil is intended to be refined.'},\n",
       "   {'id': 'imc1',\n",
       "    'name': 'F.O.B. Costs of Imported Crude Oil by Area',\n",
       "    'description': 'Values shown for the current two months are preliminary. Values shown for the previous two months may be revised to account for late submissions and corrections. Final revisions to monthly and annual values are available upon publication of the June Petroleum Marketing Monthly. Annual averages that precede the release of the June Petroleum Marketing Monthly are calculated from monthly data. Data through 2022 are final.'},\n",
       "   {'id': 'imc2',\n",
       "    'name': 'F.O.B. Costs of Imported Crude Oil for Selected Crude Streams',\n",
       "    'description': 'Values shown for the current two months are preliminary. Values shown for the previous two months may be revised to account for late submissions and corrections. Final revisions to monthly and annual values are available upon publication of the June Petroleum Marketing Monthly. Annual averages that precede the release of the June Petroleum Marketing Monthly are calculated from monthly data. Data through 2022 are final. Effective January 2009, selected crude streams were discontinued and new crude streams were added.'},\n",
       "   {'id': 'imc3',\n",
       "    'name': 'F.O.B. Costs of Imported Crude Oil by API Gravity',\n",
       "    'description': 'Values shown for the current two months are preliminary. Values shown for the previous two months may be revised to account for late submissions and corrections. Final revisions to monthly and annual values are available upon publication of the June Petroleum Marketing Monthly. Annual averages that precede the release of the June Petroleum Marketing Monthly are calculated from monthly data.  Data through 2022 are final.'},\n",
       "   {'id': 'land1',\n",
       "    'name': 'Landed Costs of Imported Crude by Area',\n",
       "    'description': 'Values shown for the current two months are preliminary. Values shown for the previous two months may be revised to account for late submissions and corrections. Final revisions to monthly and annual values are available upon publication of the June Petroleum Marketing Monthly. Annual averages that precede the release of the June Petroleum Marketing Monthly are calculated from monthly data. Data through 2022 are final.'},\n",
       "   {'id': 'land2',\n",
       "    'name': 'Landed Costs of Imported Crude for Selected Crude Streams',\n",
       "    'description': 'Values shown for the current two months are preliminary. Values shown for the previous two months may be revised to account for late submissions and corrections. Final revisions to monthly and annual values are available upon publication of the June Petroleum Marketing Monthly. Annual averages that precede the release of the June Petroleum Marketing Monthly are calculated from monthly data. Data through 2022 are final. Effective January 2009, selected crude streams were discontinued and new crude streams were added.'},\n",
       "   {'id': 'land3',\n",
       "    'name': 'Landed Costs of Imported Crude by API Gravity',\n",
       "    'description': 'Values shown for the current two months are preliminary. Values shown for the previous two months may be revised to account for late submissions and corrections. Final revisions to monthly and annual values are available upon publication of the June Petroleum Marketing Monthly. Annual averages that precede the release of the June Petroleum Marketing Monthly are calculated from monthly data.  Data through 2022 are final.'},\n",
       "   {'id': 'ipct',\n",
       "    'name': 'Percentages of Total Imported Crude Oil by API Gravity',\n",
       "    'description': 'Values shown for the current two months are preliminary. Values for the previous months are revised.  Data are final upon publication in the  Petroleum Marketing Annual.'}]},\n",
       " 'request': {'command': '/v2/petroleum/pri/',\n",
       "  'params': {'api_key': 'Pc9BW2uXp3M0ctS3W7g5vlG9le7BmRxslFxK7kcK'}},\n",
       " 'apiVersion': '2.1.4'}"
      ]
     },
     "execution_count": 6,
     "metadata": {},
     "output_type": "execute_result"
    }
   ],
   "source": [
    "get_child_metadata(\"Pc9BW2uXp3M0ctS3W7g5vlG9le7BmRxslFxK7kcK\", \"petroleum\", 'pri')"
   ]
  },
  {
   "cell_type": "code",
   "execution_count": 23,
   "metadata": {},
   "outputs": [],
   "source": [
    "def fetch_generic_data(url, query_params):\n",
    "    response = requests.get(url, params=query_params)\n",
    "    print(response.url)\n",
    "\n",
    "    if response.status_code == 200:\n",
    "        data = response.json()\n",
    "        return data\n",
    "    else:\n",
    "        print(\"API request failed with status code:\", response.status_code)\n",
    "        return None"
   ]
  },
  {
   "cell_type": "code",
   "execution_count": 24,
   "metadata": {},
   "outputs": [
    {
     "name": "stdout",
     "output_type": "stream",
     "text": [
      "https://api.eia.gov/v2/petroleum/pri/spt/data/?api_key=Pc9BW2uXp3M0ctS3W7g5vlG9le7BmRxslFxK7kcK&data%5B%5D=value&frequency=weekly&start=2023-07-28&end=2023-07-28&sort%5B0%5D%5Bcolumn%5D=period&sort%5B0%5D%5Bdirection%5D=asc&offset=0&length=1\n"
     ]
    },
    {
     "data": {
      "text/plain": [
       "{'response': {'warnings': [{'warning': 'incomplete return',\n",
       "    'description': 'The API can only return 5000 rows in JSON format.  Please consider constraining your request with facet, start, or end, or using offset to paginate results.'}],\n",
       "  'total': 11,\n",
       "  'dateFormat': 'YYYY-MM-DD',\n",
       "  'frequency': 'weekly',\n",
       "  'data': [{'period': '2023-07-28',\n",
       "    'duoarea': 'Y05LA',\n",
       "    'area-name': 'LOS ANGELES',\n",
       "    'product': 'EPD2DC',\n",
       "    'product-name': 'Carb Diesel',\n",
       "    'process': 'PF4',\n",
       "    'process-name': 'Spot Price FOB',\n",
       "    'series': 'EER_EPD2DC_PF4_Y05LA_DPG',\n",
       "    'series-description': 'Los Angeles, CA Ultra-Low Sulfur CARB Diesel Spot Price (Dollars per Gallon)',\n",
       "    'value': 3.067,\n",
       "    'units': '$/GAL'}]},\n",
       " 'request': {'command': '/v2/petroleum/pri/spt/data/',\n",
       "  'params': {'api_key': 'Pc9BW2uXp3M0ctS3W7g5vlG9le7BmRxslFxK7kcK',\n",
       "   'data': ['value'],\n",
       "   'frequency': 'weekly',\n",
       "   'start': '2023-07-28',\n",
       "   'end': '2023-07-28',\n",
       "   'sort': [{'column': 'period', 'direction': 'asc'}],\n",
       "   'offset': 0,\n",
       "   'length': 1}},\n",
       " 'apiVersion': '2.1.4'}"
      ]
     },
     "execution_count": 24,
     "metadata": {},
     "output_type": "execute_result"
    }
   ],
   "source": [
    "params = {\n",
    "        \"api_key\": \"Pc9BW2uXp3M0ctS3W7g5vlG9le7BmRxslFxK7kcK\",\n",
    "        \"data[]\": \"value\",\n",
    "        \"facets\": {},\n",
    "        \"frequency\": \"weekly\",\n",
    "        \"start\": \"2023-07-28\",\n",
    "        \"end\": \"2023-07-28\",\n",
    "        \"sort[0][column]\": \"period\",\n",
    "        \"sort[0][direction]\": \"asc\",\n",
    "        \"offset\": 0,\n",
    "        \"length\": 1\n",
    "    }\n",
    "\n",
    "fetch_generic_data(url, params)"
   ]
  },
  {
   "cell_type": "code",
   "execution_count": 10,
   "metadata": {},
   "outputs": [
    {
     "name": "stdout",
     "output_type": "stream",
     "text": [
      "https://api.eia.gov/v2/petroleum/pri/spt/data/?\n"
     ]
    }
   ],
   "source": [
    "url = build_data_request_url(\"petroleum/pri/spt\")\n",
    "print(url)"
   ]
  },
  {
   "cell_type": "code",
   "execution_count": 25,
   "metadata": {},
   "outputs": [
    {
     "name": "stdout",
     "output_type": "stream",
     "text": [
      "Data saved to ce389197fe870bdd91095d12fecd9d167197ad4d9258fd962eb82c5590abf22f.json\n"
     ]
    }
   ],
   "source": [
    "def get_full_output(api_url):\n",
    "    output = []\n",
    "    offset = 0\n",
    "    chunk_size = 150 # Initial chunk size\n",
    "\n",
    "    while True:\n",
    "        params = {\n",
    "        \"api_key\": \"Pc9BW2uXp3M0ctS3W7g5vlG9le7BmRxslFxK7kcK\",\n",
    "        \"data[]\": \"value\",\n",
    "        \"facets\": {},\n",
    "        \"frequency\": \"weekly\",\n",
    "        \"start\": \"1986-01-03\",\n",
    "        \"end\": \"2023-07-28\",\n",
    "        \"sort[0][column]\": \"period\",\n",
    "        \"sort[0][direction]\": \"asc\",\n",
    "        \"offset\": offset,\n",
    "        \"length\": chunk_size\n",
    "    }\n",
    "        response = requests.get(api_url, params=params)\n",
    "        \n",
    "        if response.status_code == 200:\n",
    "            chunk = response.json()['response']['data']\n",
    "            output += chunk\n",
    "            offset += len(chunk)\n",
    "            \n",
    "            if len(chunk) < chunk_size:\n",
    "                # If the returned chunk is smaller than the requested chunk size, we've reached the end\n",
    "                break\n",
    "        else:\n",
    "            print(f\"Error: Request failed with status code {response.status_code}\")\n",
    "            break\n",
    "\n",
    "    return output\n",
    "\n",
    "def save_to_file(filename, data):\n",
    "    with open(filename, 'w') as file:\n",
    "        json.dump(data, file, indent=4)\n",
    "        \n",
    "filename = hashlib.sha256(url.encode()).hexdigest() + \".json\"  # Generate a filename based on URL hash\n",
    "full_output_json = get_full_output(url)\n",
    "save_to_file(filename, full_output_json)\n",
    "print(f\"Data saved to {filename}\")\n"
   ]
  }
 ],
 "metadata": {
  "kernelspec": {
   "display_name": "base",
   "language": "python",
   "name": "python3"
  },
  "language_info": {
   "codemirror_mode": {
    "name": "ipython",
    "version": 3
   },
   "file_extension": ".py",
   "mimetype": "text/x-python",
   "name": "python",
   "nbconvert_exporter": "python",
   "pygments_lexer": "ipython3",
   "version": "3.10.9"
  },
  "orig_nbformat": 4
 },
 "nbformat": 4,
 "nbformat_minor": 2
}
