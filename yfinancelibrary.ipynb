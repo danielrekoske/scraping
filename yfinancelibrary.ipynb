{
 "cells": [
  {
   "cell_type": "code",
   "execution_count": null,
   "metadata": {},
   "outputs": [],
   "source": [
    "pip install yfinance pandas"
   ]
  },
  {
   "cell_type": "code",
   "execution_count": null,
   "metadata": {},
   "outputs": [],
   "source": [
    "import yfinance as yf\n",
    "import pandas as pd\n",
    "import datetime\n",
    "import ssl\n",
    "import os\n",
    "\n",
    "# Disable SSL certificate verification\n",
    "ssl._create_default_https_context = ssl._create_unverified_context\n",
    "\n",
    "def fetch_sp500_data(start_date, end_date, output_file):\n",
    "    sp500_tickers = pd.read_html(\n",
    "        'https://en.wikipedia.org/wiki/List_of_S%26P_500_companies')[0]['Symbol'].tolist()\n",
    "\n",
    "    sp500_data = pd.DataFrame()\n",
    "\n",
    "    for ticker in sp500_tickers:\n",
    "        try:\n",
    "            stock_data = yf.download(ticker, start=start_date, end=end_date)\n",
    "            stock_data['Ticker'] = ticker\n",
    "            sp500_data = pd.concat([sp500_data, stock_data])\n",
    "            print(f\"Fetched data for {ticker}\")\n",
    "        except Exception as e:\n",
    "            print(f\"Failed to fetch data for {ticker}: {e}\")\n",
    "\n",
    "    sp500_data.to_csv(output_file)\n",
    "    print(f\"Data saved to {output_file}\")\n",
    "\n",
    "output_file = \"s_and_p_data.csv\"\n",
    "start_date = datetime.datetime(2020, 1, 1)\n",
    "end_date = datetime.datetime(2024, 3, 1)\n",
    "fetch_sp500_data(start_date, end_date, output_file)\n"
   ]
  }
 ],
 "metadata": {
  "kernelspec": {
   "display_name": "Python 3",
   "language": "python",
   "name": "python3"
  },
  "language_info": {
   "codemirror_mode": {
    "name": "ipython",
    "version": 3
   },
   "file_extension": ".py",
   "mimetype": "text/x-python",
   "name": "python",
   "nbconvert_exporter": "python",
   "pygments_lexer": "ipython3",
   "version": "3.11.5"
  }
 },
 "nbformat": 4,
 "nbformat_minor": 2
}
