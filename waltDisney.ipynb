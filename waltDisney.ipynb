{
 "cells": [
  {
   "cell_type": "code",
   "execution_count": null,
   "metadata": {},
   "outputs": [],
   "source": [
    "pip install requests"
   ]
  },
  {
   "cell_type": "code",
   "execution_count": null,
   "metadata": {},
   "outputs": [],
   "source": [
    "pip install beautifulsoup4"
   ]
  },
  {
   "cell_type": "code",
   "execution_count": null,
   "metadata": {},
   "outputs": [],
   "source": [
    "import requests\n",
    "from bs4 import BeautifulSoup\n",
    "import os\n",
    "\n",
    "url = \"https://thewaltdisneycompany.com/investor-relations/\"\n",
    "\n",
    "response = requests.get(url)\n",
    "response.raise_for_status()  \n",
    "\n",
    "soup = BeautifulSoup(response.text, 'html.parser')\n",
    "\n",
    "pdf_links = soup.find_all('a', class_='pdf-file')\n",
    "\n",
    "save_dir = \"disney_reports\"\n",
    "os.makedirs(save_dir, exist_ok=True)\n",
    "\n",
    "# Choose what to download: 'annual' or 'quarterly'\n",
    "report_type = 'quarterly' \n",
    "\n",
    "for link in pdf_links:\n",
    "    pdf_url = link.get('href')\n",
    "    if pdf_url.endswith('.pdf'):\n",
    "        link_text = link.get_text(strip=True).lower() \n",
    "        \n",
    "        if (report_type == 'annual' and 'annual report' in link_text) or \\\n",
    "           (report_type == 'quarterly' and ('q1' in link_text or 'q2' in link_text or 'q3' in link_text or 'q4' in link_text or 'earnings report' in link_text)):\n",
    "            pdf_response = requests.get(pdf_url)\n",
    "            pdf_response.raise_for_status()\n",
    "            \n",
    "            file_name = pdf_url.split('/')[-1]\n",
    "            save_path = os.path.join(save_dir, file_name)\n",
    "            \n",
    "            with open(save_path, 'wb') as f:\n",
    "                f.write(pdf_response.content)\n",
    "            print(f\"Downloaded {file_name}\")\n",
    "\n",
    "print(f\"All {report_type} have been downloaded.\")\n"
   ]
  },
  {
   "cell_type": "code",
   "execution_count": null,
   "metadata": {},
   "outputs": [],
   "source": [
    "pip install PyMuPDF"
   ]
  },
  {
   "cell_type": "code",
   "execution_count": 13,
   "metadata": {},
   "outputs": [],
   "source": [
    "import fitz\n",
    "import os\n",
    "\n",
    "def extract_section(pdf_path, start_keywords, end_keywords):\n",
    "    \"\"\"\n",
    "    Extracts sections from a PDF based on start and end keywords.\n",
    "\n",
    "    :param pdf_path: Path to the PDF file.\n",
    "    :param start_keywords: List of keywords indicating the start of the section.\n",
    "    :param end_keywords: List of keywords indicating the end of the section.\n",
    "    :return: Text of the extracted section.\n",
    "    \"\"\"\n",
    "    doc = fitz.open(pdf_path)\n",
    "    text = \"\"\n",
    "    capture = False\n",
    "    \n",
    "    for page in doc:\n",
    "        page_text = page.get_text()\n",
    "        if any(keyword.lower() in page_text.lower() for keyword in start_keywords) and not capture:\n",
    "            capture = True\n",
    "        if any(keyword.lower() in page_text.lower() for keyword in end_keywords) and capture:\n",
    "            text += page_text\n",
    "            break\n",
    "        if capture:\n",
    "            text += page_text\n",
    "    \n",
    "    doc.close()\n",
    "    return text"
   ]
  },
  {
   "cell_type": "code",
   "execution_count": null,
   "metadata": {},
   "outputs": [],
   "source": [
    "pdf_dir = \"disney_reports\"\n",
    "balance_sheet_keywords = [\"balance sheet\"]\n",
    "cash_flows_keywords = [\"cash flows\", \"statement of cash flows\"]\n",
    "income_statement_keywords = [\"income statement\", \"statement of operations\"]\n",
    "\n",
    "for pdf_file in os.listdir(pdf_dir):\n",
    "    if pdf_file.endswith(\".pdf\"):\n",
    "        pdf_path = os.path.join(pdf_dir, pdf_file)\n",
    "        print(f\"Extracting from {pdf_file}...\")\n",
    "        \n",
    "        balance_sheet_section = extract_section(pdf_path, balance_sheet_keywords, cash_flows_keywords)\n",
    "        print(\"Balance Sheet Section:\")\n",
    "        print(balance_sheet_section)"
   ]
  }
 ],
 "metadata": {
  "kernelspec": {
   "display_name": "Python 3",
   "language": "python",
   "name": "python3"
  },
  "language_info": {
   "codemirror_mode": {
    "name": "ipython",
    "version": 3
   },
   "file_extension": ".py",
   "mimetype": "text/x-python",
   "name": "python",
   "nbconvert_exporter": "python",
   "pygments_lexer": "ipython3",
   "version": "3.11.5"
  }
 },
 "nbformat": 4,
 "nbformat_minor": 2
}
