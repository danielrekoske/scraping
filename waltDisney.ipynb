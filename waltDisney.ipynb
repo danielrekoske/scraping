{
 "cells": [
  {
   "cell_type": "code",
   "execution_count": null,
   "metadata": {},
   "outputs": [],
   "source": [
    "pip install requests"
   ]
  },
  {
   "cell_type": "code",
   "execution_count": null,
   "metadata": {},
   "outputs": [],
   "source": [
    "pip install beautifulsoup4"
   ]
  },
  {
   "cell_type": "code",
   "execution_count": null,
   "metadata": {},
   "outputs": [],
   "source": [
    "import requests\n",
    "from bs4 import BeautifulSoup\n",
    "import os\n",
    "\n",
    "url = \"https://thewaltdisneycompany.com/investor-relations/\"\n",
    "\n",
    "response = requests.get(url)\n",
    "response.raise_for_status()  \n",
    "\n",
    "soup = BeautifulSoup(response.text, 'html.parser')\n",
    "\n",
    "pdf_links = soup.find_all('a', class_='pdf-file')\n",
    "\n",
    "save_dir = \"disney_reports\"\n",
    "os.makedirs(save_dir, exist_ok=True)\n",
    "\n",
    "# Choose what to download: 'annual' or 'quarterly'\n",
    "report_type = 'annual' \n",
    "\n",
    "for link in pdf_links:\n",
    "    pdf_url = link.get('href')\n",
    "    if pdf_url.endswith('.pdf'):\n",
    "        link_text = link.get_text(strip=True).lower() \n",
    "        \n",
    "        if (report_type == 'annual' and 'annual report' in link_text) or \\\n",
    "           (report_type == 'quarterly' and ('q1' in link_text or 'q2' in link_text or 'q3' in link_text or 'q4' in link_text or 'earnings report' in link_text)):\n",
    "            pdf_response = requests.get(pdf_url)\n",
    "            pdf_response.raise_for_status()\n",
    "            \n",
    "            file_name = pdf_url.split('/')[-1]\n",
    "            save_path = os.path.join(save_dir, file_name)\n",
    "            \n",
    "            with open(save_path, 'wb') as f:\n",
    "                f.write(pdf_response.content)\n",
    "            print(f\"Downloaded {file_name}\")\n",
    "\n",
    "print(f\"All {report_type} reports have been downloaded.\")\n"
   ]
  },
  {
   "cell_type": "code",
   "execution_count": null,
   "metadata": {},
   "outputs": [],
   "source": [
    "pip install PyMuPDF tabula-py pandas\n"
   ]
  },
  {
   "cell_type": "code",
   "execution_count": null,
   "metadata": {},
   "outputs": [],
   "source": [
    "import os\n",
    "import pandas as pd\n",
    "from tabula import convert_into\n",
    "\n",
    "def extract_tables(pdf_path, output_dir):\n",
    "    output_path = os.path.join(output_dir, os.path.basename(pdf_path).replace('.pdf', '.csv'))\n",
    "    try:\n",
    "        convert_into(pdf_path, output_path, output_format=\"csv\", pages=\"all\")\n",
    "        print(f\"Tables extracted from {os.path.basename(pdf_path)} and saved as {output_path}\")\n",
    "    except Exception as e:\n",
    "        print(f\"Failed to extract tables from {os.path.basename(pdf_path)}: {e}\")\n",
    "\n",
    "def process_pdfs(pdf_dir, output_dir):\n",
    "    if not os.path.exists(output_dir):\n",
    "        os.makedirs(output_dir)\n",
    "\n",
    "    for filename in os.listdir(pdf_dir):\n",
    "        if filename.lower().endswith('.pdf'):\n",
    "            pdf_path = os.path.join(pdf_dir, filename)\n",
    "            extract_tables(pdf_path, output_dir)\n",
    "\n",
    "pdf_directory = 'disney_reports'\n",
    "output_directory = 'extracted_reports'\n",
    "process_pdfs(pdf_directory, output_directory)\n"
   ]
  }
 ],
 "metadata": {
  "kernelspec": {
   "display_name": "Python 3",
   "language": "python",
   "name": "python3"
  },
  "language_info": {
   "codemirror_mode": {
    "name": "ipython",
    "version": 3
   },
   "file_extension": ".py",
   "mimetype": "text/x-python",
   "name": "python",
   "nbconvert_exporter": "python",
   "pygments_lexer": "ipython3",
   "version": "3.11.5"
  }
 },
 "nbformat": 4,
 "nbformat_minor": 2
}
